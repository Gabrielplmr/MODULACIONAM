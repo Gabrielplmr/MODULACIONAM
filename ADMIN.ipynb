{
  "cells": [
    {
      "cell_type": "markdown",
      "metadata": {
        "colab_type": "text",
        "id": "view-in-github"
      },
      "source": [
        "<a href=\"https://colab.research.google.com/github/Gabrielplmr/MODULACIONAM/blob/main/ADMIN.ipynb\" target=\"_parent\"><img src=\"https://colab.research.google.com/assets/colab-badge.svg\" alt=\"Open In Colab\"/></a>"
      ]
    },
    {
      "cell_type": "code",
      "execution_count": null,
      "metadata": {},
      "outputs": [],
      "source": [
        "# Modulación AM: combinación de la portadora y la señal de información \n",
        "modulada = (1 + informacion) * portadora  # Fórmula de modulación AM \n",
        "# Visualizar la señal modulada \n",
        "plt.figure(figsize=(10, 4)) \n",
        "plt.plot(t, modulada, label='Señal Modulda AM', color='g') \n",
        "plt.title('Señal Modulda AM') \n",
        "plt.xlabel('Tiempo [s]') \n",
        "plt.ylabel('Amplitud') \n",
        "* \n",
        "plt.legend(loc='upper right') \n",
        "plt.grid(True) \n",
        "plt.show()"
      ]
    },
    {
      "cell_type": "code",
      "execution_count": null,
      "metadata": {
        "id": "JdyR2bBJDgSO"
      },
      "outputs": [],
      "source": [
        "import numpy as np\n",
        "import matplotlib.pyplot as plt\n",
        "# Parámetros de la portadora\n",
        "frecuencia_portadora = 50  # Frecuencia de la portadora en Hz\n",
        "amplitud_portadora = 1  # Amplitud de la portadora\n",
        "t = np.linspace(0, 1, 1000)  # Tiempo de simulación\n",
        "portadora = amplitud_portadora * np.cos(2 * np.pi * frecuencia_portadora *\n",
        "t)\n",
        "# Visualizar la señal portadora\n",
        "plt.figure(figsize=(10, 4))\n",
        "plt.plot(t, portadora, label='Señal Portadora')\n",
        "plt.title('Señal Portadora')\n",
        "plt.xlabel('Tiempo [s]')\n",
        "plt.ylabel('Amplitud')\n",
        "plt.legend(loc='upper right')\n",
        "plt.grid(True)\n",
        "plt.show()"
      ]
    }
  ],
  "metadata": {
    "colab": {
      "authorship_tag": "ABX9TyNZ6mVcgsdj6ZS90A45UfMM",
      "include_colab_link": true,
      "provenance": []
    },
    "kernelspec": {
      "display_name": "Python 3",
      "name": "python3"
    },
    "language_info": {
      "name": "python"
    }
  },
  "nbformat": 4,
  "nbformat_minor": 0
}

# Modulación AM: combinación de la portadora y la señal de información 
modulada = (1 + informacion) * portadora  # Fórmula de modulación AM 
# Visualizar la señal modulada 
plt.figure(figsize=(10, 4)) 
plt.plot(t, modulada, label='Señal Modulda AM', color='g') 
plt.title('Señal Modulda AM') 
plt.xlabel('Tiempo [0.8s]') 
plt.ylabel('Amplitud') 
* 
plt.legend(loc='upper right') 
plt.grid(True) 
plt.show()